{
 "cells": [
  {
   "cell_type": "markdown",
   "metadata": {},
   "source": [
    "# Step 0. Load Packages/Libraries"
   ]
  },
  {
   "cell_type": "code",
   "execution_count": null,
   "metadata": {},
   "outputs": [],
   "source": [
    "from .tools.keyworder import Keyworder\n",
    "from .tools.languager import Languager\n",
    "from .tools.sentimenter import Sentimenter\n",
    "from .tools.summarizer import Summarizer"
   ]
  },
  {
   "cell_type": "code",
   "execution_count": null,
   "metadata": {},
   "outputs": [],
   "source": [
    "input = '/home/dxmonteiro/Desktop/WORKSPACE/ProfExtra/scripts/data/humanidades_digitais_scopus.csv'\n",
    "\n",
    "title = 0\n",
    "citations = 1\n",
    "doi = 2\n",
    "link = 3\n",
    "abstract = 4\n",
    "keywords = [5,7,9,11,13,15,17,19]\n",
    "authors = [21,22,23,24,25,26,27,28,29,30,31,32,33,34,35]\n",
    "\n",
    "list_papers = []\n",
    "list_authors = []\n",
    "list_keywords = []"
   ]
  },
  {
   "cell_type": "code",
   "execution_count": null,
   "metadata": {},
   "outputs": [],
   "source": [
    "with open(dataset_scopus, 'r') as file:\n",
    "  csvreader = csv.reader(file)\n",
    "  next(csvreader)\n",
    "  for row in csvreader:\n",
    "    if not not row[citations]:\n",
    "      nplist = np.array(row)\n",
    "      real_authors = list(filter(None, nplist[authors]))\n",
    "      real_keywords = list(filter(None, nplist[keywords]))\n",
    "      new_cit = int(row[citations])\n",
    "      paper = {\n",
    "          'doi': nplist[doi],\n",
    "          'title': nplist[title],\n",
    "          'abstract': nplist[abstract],\n",
    "          'link': nplist[link],\n",
    "          'citations': new_cit,\n",
    "          'keywords': real_keywords,\n",
    "          'authors': real_authors\n",
    "      }\n",
    "      list_papers.append(paper)\n",
    "      list_authors = get_values(real_authors, list_authors, new_cit)\n",
    "      list_keywords = get_values(real_keywords, list_keywords, new_cit)"
   ]
  }
 ],
 "metadata": {
  "kernelspec": {
   "display_name": "Python 3.9.0 ('profextra')",
   "language": "python",
   "name": "python3"
  },
  "language_info": {
   "name": "python",
   "version": "3.9.0"
  },
  "orig_nbformat": 4,
  "vscode": {
   "interpreter": {
    "hash": "d9c053a61acfdbdf1174e3d410b8ae0c87c7d4854c4a9812804c3f7123709dc5"
   }
  }
 },
 "nbformat": 4,
 "nbformat_minor": 2
}
