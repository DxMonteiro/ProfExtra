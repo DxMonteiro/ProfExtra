{
 "cells": [
  {
   "cell_type": "code",
   "execution_count": 7,
   "metadata": {},
   "outputs": [
    {
     "ename": "AttributeError",
     "evalue": "module 'textacy' has no attribute 'readability_stats'",
     "output_type": "error",
     "traceback": [
      "\u001b[0;31m---------------------------------------------------------------------------\u001b[0m",
      "\u001b[0;31mAttributeError\u001b[0m                            Traceback (most recent call last)",
      "\u001b[1;32m/home/dxmonteiro/Desktop/WORKSPACE/ProfExtra/old/test2.ipynb Cell 1\u001b[0m in \u001b[0;36m<cell line: 5>\u001b[0;34m()\u001b[0m\n\u001b[1;32m      <a href='vscode-notebook-cell:/home/dxmonteiro/Desktop/WORKSPACE/ProfExtra/old/test2.ipynb#W0sZmlsZQ%3D%3D?line=0'>1</a>\u001b[0m \u001b[39mimport\u001b[39;00m \u001b[39mtextacy\u001b[39;00m\n\u001b[1;32m      <a href='vscode-notebook-cell:/home/dxmonteiro/Desktop/WORKSPACE/ProfExtra/old/test2.ipynb#W0sZmlsZQ%3D%3D?line=2'>3</a>\u001b[0m text \u001b[39m=\u001b[39m \u001b[39m\"\u001b[39m\u001b[39mIn the past three years, we have witnessed the emergence of a new class of artificial intelligence systems so-called foundation models, which are characterised by very large machine learning models (with tens or hundreds of billions of parameters) trained using extremely large and broad data sets. Foundation models, it is argued, have competence in a broad range of tasks, which can be specialised for specific applications. Large language models, of which GPT-3 is perhaps the best known, are the most prominent example of current foundation models. While foundation models have demonstrated impressive capabilities in certain tasks—natural language generation being the most obvious example—I argue that because they are inherently disembodied, and they are limited with respect to what they have learned and what they can do. Foundation models are likely to be very useful in many applications: but they are not the end of the road in artificial intelligence.\u001b[39m\u001b[39m\"\u001b[39m\n\u001b[0;32m----> <a href='vscode-notebook-cell:/home/dxmonteiro/Desktop/WORKSPACE/ProfExtra/old/test2.ipynb#W0sZmlsZQ%3D%3D?line=4'>5</a>\u001b[0m textacy\u001b[39m.\u001b[39;49mreadability_stats(text)\n",
      "\u001b[0;31mAttributeError\u001b[0m: module 'textacy' has no attribute 'readability_stats'"
     ]
    }
   ],
   "source": [
    "import textacy\n",
    "\n",
    "text = \"In the past three years, we have witnessed the emergence of a new class of artificial intelligence systems so-called foundation models, which are characterised by very large machine learning models (with tens or hundreds of billions of parameters) trained using extremely large and broad data sets. Foundation models, it is argued, have competence in a broad range of tasks, which can be specialised for specific applications. Large language models, of which GPT-3 is perhaps the best known, are the most prominent example of current foundation models. While foundation models have demonstrated impressive capabilities in certain tasks—natural language generation being the most obvious example—I argue that because they are inherently disembodied, and they are limited with respect to what they have learned and what they can do. Foundation models are likely to be very useful in many applications: but they are not the end of the road in artificial intelligence.\"\n",
    "\n",
    "ts = textacy(text)\n",
    "\n",
    "textacy.readability_stats(text)"
   ]
  }
 ],
 "metadata": {
  "kernelspec": {
   "display_name": "Python 3.9.13 ('profextra')",
   "language": "python",
   "name": "python3"
  },
  "language_info": {
   "codemirror_mode": {
    "name": "ipython",
    "version": 3
   },
   "file_extension": ".py",
   "mimetype": "text/x-python",
   "name": "python",
   "nbconvert_exporter": "python",
   "pygments_lexer": "ipython3",
   "version": "3.9.13"
  },
  "orig_nbformat": 4,
  "vscode": {
   "interpreter": {
    "hash": "d9c053a61acfdbdf1174e3d410b8ae0c87c7d4854c4a9812804c3f7123709dc5"
   }
  }
 },
 "nbformat": 4,
 "nbformat_minor": 2
}
