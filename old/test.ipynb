{
 "cells": [
  {
   "cell_type": "code",
   "execution_count": 7,
   "metadata": {},
   "outputs": [
    {
     "name": "stdout",
     "output_type": "stream",
     "text": [
      "{'keywords': [{'ngram': 'common neurologic disorder', 'score': 0.019064223544274565}, {'ngram': 'Chronic subdural hematoma', 'score': 0.03019096529727524}, {'ngram': 'older people', 'score': 0.041894706888585515}, {'ngram': 'Chronic subdural', 'score': 0.06265784552531421}, {'ngram': 'subdural hematoma', 'score': 0.06265784552531421}, {'ngram': 'common neurologic', 'score': 0.06791702165622938}, {'ngram': 'neurologic disorder', 'score': 0.06791702165622938}, {'ngram': 'prevalent among older', 'score': 0.06791702165622938}, {'ngram': 'subdural', 'score': 0.1438810455815069}, {'ngram': 'people', 'score': 0.15944641634547613}, {'ngram': 'Chronic', 'score': 0.19349399983486734}, {'ngram': 'hematoma', 'score': 0.19349399983486734}, {'ngram': 'common', 'score': 0.2521857611595444}, {'ngram': 'neurologic', 'score': 0.2521857611595444}, {'ngram': 'disorder', 'score': 0.2521857611595444}, {'ngram': 'prevalent', 'score': 0.2521857611595444}, {'ngram': 'older', 'score': 0.2521857611595444}, {'ngram': 'studied', 'score': 0.39715938496276104}, {'ngram': 'effect of dexamethasone', 'score': 0.4104072770957891}, {'ngram': 'dexamethasone on outcomes', 'score': 0.4104072770957891}], 'language': 'english'}\n"
     ]
    }
   ],
   "source": [
    "import requests\n",
    "from bs4 import BeautifulSoup\n",
    "import json\n",
    "\n",
    "processed_data = []\n",
    "x = \"Chronic subdural hematoma is a common neurologic disorder that is especially prevalent among older people. The effect of dexamethasone on outcomes in patients with chronic subdural hematoma has not been well studied.\"\n",
    "\n",
    "resp = requests.get('http://yake.inesctec.pt/yake/v2/extract_keywords?content={}&max_ngram_size=3&number_of_keywords=20&highlight=false'.format(x))\n",
    "bsoup = BeautifulSoup(resp.text)\n",
    "textload = json.loads(bsoup.text)\n",
    "print(textload)"
   ]
  }
 ],
 "metadata": {
  "kernelspec": {
   "display_name": "Python 3.9.13 ('profextra')",
   "language": "python",
   "name": "python3"
  },
  "language_info": {
   "codemirror_mode": {
    "name": "ipython",
    "version": 3
   },
   "file_extension": ".py",
   "mimetype": "text/x-python",
   "name": "python",
   "nbconvert_exporter": "python",
   "pygments_lexer": "ipython3",
   "version": "3.9.13"
  },
  "orig_nbformat": 4,
  "vscode": {
   "interpreter": {
    "hash": "d9c053a61acfdbdf1174e3d410b8ae0c87c7d4854c4a9812804c3f7123709dc5"
   }
  }
 },
 "nbformat": 4,
 "nbformat_minor": 2
}
